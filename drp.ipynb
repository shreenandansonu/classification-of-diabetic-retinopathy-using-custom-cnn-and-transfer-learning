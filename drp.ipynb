{
 "cells": [
  {
   "cell_type": "code",
   "execution_count": 1,
   "id": "3573b2c2",
   "metadata": {},
   "outputs": [],
   "source": [
    "import os\n",
    "import numpy as np\n",
    "import matplotlib.pyplot as plt\n",
    "\n",
    "import tensorflow as tf\n",
    "from tensorflow.keras.models import Sequential\n",
    "from tensorflow.keras.layers import Conv2D, MaxPooling2D, Flatten, Dense, Dropout\n",
    "from tensorflow.keras.preprocessing.image import ImageDataGenerator\n"
   ]
  },
  {
   "cell_type": "code",
   "execution_count": null,
   "id": "801dbcbb",
   "metadata": {},
   "outputs": [],
   "source": [
    "# Set paths to dataset\n",
    "train_dir = \"path_to_train_folder\"\n",
    "test_dir = \"path_to_test_folder\"\n",
    "\n",
    "# Data augmentation & normalization\n",
    "train_datagen = ImageDataGenerator(\n",
    "    rescale=1.0/255,        # Normalize pixel values\n",
    "    rotation_range=20,      # Rotate images randomly\n",
    "    width_shift_range=0.2,  # Shift horizontally\n",
    "    height_shift_range=0.2, # Shift vertically\n",
    "    shear_range=0.2,        # Shear transformation\n",
    "    zoom_range=0.2,         # Random zoom\n",
    "    horizontal_flip=True,   # Flip images\n",
    "    fill_mode='nearest'     # Fill missing pixels\n",
    ")\n",
    "\n",
    "test_datagen = ImageDataGenerator(rescale=1.0/255)  # Only rescaling for test set\n",
    "\n",
    "# Load images from directories\n",
    "train_set = train_datagen.flow_from_directory(\n",
    "    train_dir,\n",
    "    target_size=(224, 224),  # Resize all images\n",
    "    batch_size=32,\n",
    "    class_mode='categorical' # Multi-class classification\n",
    ")\n",
    "\n",
    "test_set = test_datagen.flow_from_directory(\n",
    "    test_dir,\n",
    "    target_size=(224, 224),\n",
    "    batch_size=32,\n",
    "    class_mode='categorical'\n",
    ")\n"
   ]
  }
 ],
 "metadata": {
  "kernelspec": {
   "display_name": "Python 3",
   "language": "python",
   "name": "python3"
  },
  "language_info": {
   "codemirror_mode": {
    "name": "ipython",
    "version": 3
   },
   "file_extension": ".py",
   "mimetype": "text/x-python",
   "name": "python",
   "nbconvert_exporter": "python",
   "pygments_lexer": "ipython3",
   "version": "3.11.4"
  }
 },
 "nbformat": 4,
 "nbformat_minor": 5
}
